{
 "cells": [
  {
   "cell_type": "code",
   "execution_count": 1,
   "id": "3cbb8eb2-9e39-4b96-8a10-35b99c1e5ec0",
   "metadata": {
    "tags": []
   },
   "outputs": [],
   "source": [
    "import pandas as pd\n",
    "import openai\n",
    "import json\n",
    "import os\n",
    "from dotenv import load_dotenv\n",
    "from openai import AsyncOpenAI\n",
    "\n",
    "# Load environment variables\n",
    "load_dotenv()\n",
    "\n",
    "api_key = os.getenv(\"OPENAI_API_KEY\")\n",
    "\n",
    "if not api_key:\n",
    "    raise ValueError(\"API key not found. Please set the OPENAI_API_KEY environment variable.\")\n",
    "\n",
    "# Initialize OpenAI client\n",
    "client = openai.Client(api_key=api_key)"
   ]
  },
  {
   "cell_type": "code",
   "execution_count": 2,
   "id": "d9e3fb01-3d29-40f9-a09f-aff2796b7423",
   "metadata": {},
   "outputs": [
    {
     "name": "stdout",
     "output_type": "stream",
     "text": [
      "First 10 CDE names: ['BPIWrstPain7dRtngScale', 'BPILstPain7dRtngScale', 'BPIAvgPain7dRtngScale', 'BPICurntPainRtngScale', 'BPIPainSeverityScore', 'BPIWorstPainRatingScl', 'BPILeastPainRatingScl', 'BPIAvgPainRatingScl', 'BPICurrentPainRatingScl', 'BRTHDTC']\n"
     ]
    }
   ],
   "source": [
    "# Load HEAL CDE JSON reference\n",
    "heal_cde_file_path = r\"C:\\Users\\lmaefos\\Code Stuffs\\CDE_detective\\CDE_ID_detective_revamp\\KnowledgeBase\\All_HEALPAINCDEsDD_JSON.json\"\n",
    "with open(heal_cde_file_path, \"r\") as f:\n",
    "    heal_cde_data = json.load(f)\n",
    "\n",
    "# Extract variable names from the JSON primary keys\n",
    "heal_cde_names = list(heal_cde_data.keys())  # Primary keys are the variable names\n",
    "\n",
    "# Verify the extracted names\n",
    "print(f\"First 10 CDE names: {heal_cde_names[:10]}\")"
   ]
  },
  {
   "cell_type": "code",
   "execution_count": 3,
   "id": "43241479-a86a-4a0c-b5a6-dfcd064a945a",
   "metadata": {},
   "outputs": [],
   "source": [
    "# Load the input Excel/CSV file\n",
    "input_file_path = r\"C:\\Users\\lmaefos\\Code Stuffs\\CDE_detective\\SAMPLE_DataDictionary.csv\"  # Update with your input file path\n",
    "variable_name_column = \"name\"  # Update this to match the column name for variable names in your input file\n",
    "module_column = \"module\"  # Update this to match the column for module names if needed"
   ]
  },
  {
   "cell_type": "code",
   "execution_count": 4,
   "id": "6209ecc3-ad7a-4565-8c1c-d475c05776d7",
   "metadata": {},
   "outputs": [],
   "source": [
    "# Load the input Excel/CSV file\n",
    "df = pd.read_csv(input_file_path)  # Use pd.read_csv() for CSV files or # Use pd.read_excel() for .xlsx files\n",
    "# Convert DataFrame to list of dictionaries for processing\n",
    "rows = df.to_dict(orient=\"records\")\n",
    "\n",
    "# Process each row\n",
    "results = []\n",
    "for row in rows:\n",
    "    module_name = row.get(module_column, \"Unknown Module\")\n",
    "    name = row.get(variable_name_column, \"Unknown Name\")\n",
    "\n",
    "    # Matching logic\n",
    "    if name in heal_cde_names:\n",
    "        standards_mapping_type = \"HEAL CDE Match\"\n",
    "        heal_cde_name = heal_cde_data[name].get(\"CDE Name\", \"No match\")  # Fetch CDE Name from JSON\n",
    "        variable_cde_name = name  # Use the primary key as the variable name\n",
    "    else:\n",
    "        standards_mapping_type = \"No CDE Match\"\n",
    "        heal_cde_name = \"No match\"\n",
    "        variable_cde_name = \"No match\"\n",
    "\n",
    "    results.append({\n",
    "        \"module_name\": module_name,\n",
    "        \"name\": name,\n",
    "        \"standards_mapping_type\": standards_mapping_type,\n",
    "        \"heal_cde_name\": heal_cde_name,\n",
    "        \"variable_cde_name\": variable_cde_name\n",
    "    })"
   ]
  },
  {
   "cell_type": "code",
   "execution_count": 5,
   "id": "7c33f19a-a4f1-48d6-955a-b2bdf5a19115",
   "metadata": {},
   "outputs": [],
   "source": [
    "# Upload the input file to the assistant\n",
    "input_file = client.files.create(\n",
    "    file=open(input_file_path, \"rb\"),\n",
    "    purpose=\"assistants\"\n",
    ")\n",
    "input_file_id = input_file.id"
   ]
  },
  {
   "cell_type": "code",
   "execution_count": 6,
   "id": "23a3b06a-4288-47a3-9f5b-9c24ed8ea97c",
   "metadata": {},
   "outputs": [
    {
     "ename": "BadRequestError",
     "evalue": "Error code: 400 - {'error': {'message': 'Files with extensions [.csv] are not supported for retrieval. See https://platform.openai.com/docs/assistants/tools/file-search/supported-files', 'type': 'invalid_request_error', 'param': None, 'code': 'unsupported_file'}}",
     "output_type": "error",
     "traceback": [
      "\u001b[1;31m---------------------------------------------------------------------------\u001b[0m",
      "\u001b[1;31mBadRequestError\u001b[0m                           Traceback (most recent call last)",
      "Cell \u001b[1;32mIn[6], line 20\u001b[0m\n\u001b[0;32m      2\u001b[0m assistant \u001b[38;5;241m=\u001b[39m client\u001b[38;5;241m.\u001b[39mbeta\u001b[38;5;241m.\u001b[39massistants\u001b[38;5;241m.\u001b[39mcreate(\n\u001b[0;32m      3\u001b[0m     model\u001b[38;5;241m=\u001b[39m\u001b[38;5;124m\"\u001b[39m\u001b[38;5;124mgpt-4o-mini-2024-07-18\u001b[39m\u001b[38;5;124m\"\u001b[39m,\n\u001b[0;32m      4\u001b[0m     instructions\u001b[38;5;241m=\u001b[39m\u001b[38;5;124m\"\"\"\u001b[39m\u001b[38;5;124mYour task is to analyze variables from the input file and map them against the HEAL CDE reference. Provide results in a flat JSON format:\u001b[39m\n\u001b[1;32m   (...)\u001b[0m\n\u001b[0;32m     16\u001b[0m     tools\u001b[38;5;241m=\u001b[39m[{\u001b[38;5;124m\"\u001b[39m\u001b[38;5;124mtype\u001b[39m\u001b[38;5;124m\"\u001b[39m: \u001b[38;5;124m\"\u001b[39m\u001b[38;5;124mfile_search\u001b[39m\u001b[38;5;124m\"\u001b[39m}]\n\u001b[0;32m     17\u001b[0m )\n\u001b[0;32m     19\u001b[0m \u001b[38;5;66;03m# Create the thread\u001b[39;00m\n\u001b[1;32m---> 20\u001b[0m thread \u001b[38;5;241m=\u001b[39m \u001b[43mclient\u001b[49m\u001b[38;5;241;43m.\u001b[39;49m\u001b[43mbeta\u001b[49m\u001b[38;5;241;43m.\u001b[39;49m\u001b[43mthreads\u001b[49m\u001b[38;5;241;43m.\u001b[39;49m\u001b[43mcreate\u001b[49m\u001b[43m(\u001b[49m\n\u001b[0;32m     21\u001b[0m \u001b[43m    \u001b[49m\u001b[43mmessages\u001b[49m\u001b[38;5;241;43m=\u001b[39;49m\u001b[43m[\u001b[49m\n\u001b[0;32m     22\u001b[0m \u001b[43m        \u001b[49m\u001b[43m{\u001b[49m\n\u001b[0;32m     23\u001b[0m \u001b[43m            \u001b[49m\u001b[38;5;124;43m\"\u001b[39;49m\u001b[38;5;124;43mrole\u001b[39;49m\u001b[38;5;124;43m\"\u001b[39;49m\u001b[43m:\u001b[49m\u001b[43m \u001b[49m\u001b[38;5;124;43m\"\u001b[39;49m\u001b[38;5;124;43muser\u001b[39;49m\u001b[38;5;124;43m\"\u001b[39;49m\u001b[43m,\u001b[49m\n\u001b[0;32m     24\u001b[0m \u001b[43m            \u001b[49m\u001b[38;5;124;43m\"\u001b[39;49m\u001b[38;5;124;43mcontent\u001b[39;49m\u001b[38;5;124;43m\"\u001b[39;49m\u001b[43m:\u001b[49m\u001b[43m \u001b[49m\u001b[38;5;124;43m\"\"\"\u001b[39;49m\u001b[38;5;124;43mPlease analyze the variables from the input file and match them to the HEAL CDE reference.\u001b[39;49m\u001b[38;5;124;43m\"\"\"\u001b[39;49m\u001b[43m,\u001b[49m\n\u001b[0;32m     25\u001b[0m \u001b[43m            \u001b[49m\u001b[38;5;124;43m\"\u001b[39;49m\u001b[38;5;124;43mattachments\u001b[39;49m\u001b[38;5;124;43m\"\u001b[39;49m\u001b[43m:\u001b[49m\u001b[43m \u001b[49m\u001b[43m[\u001b[49m\n\u001b[0;32m     26\u001b[0m \u001b[43m                \u001b[49m\u001b[43m{\u001b[49m\u001b[38;5;124;43m\"\u001b[39;49m\u001b[38;5;124;43mfile_id\u001b[39;49m\u001b[38;5;124;43m\"\u001b[39;49m\u001b[43m:\u001b[49m\u001b[43m \u001b[49m\u001b[43minput_file_id\u001b[49m\u001b[43m,\u001b[49m\u001b[43m \u001b[49m\u001b[38;5;124;43m\"\u001b[39;49m\u001b[38;5;124;43mtools\u001b[39;49m\u001b[38;5;124;43m\"\u001b[39;49m\u001b[43m:\u001b[49m\u001b[43m \u001b[49m\u001b[43m[\u001b[49m\u001b[43m{\u001b[49m\u001b[38;5;124;43m\"\u001b[39;49m\u001b[38;5;124;43mtype\u001b[39;49m\u001b[38;5;124;43m\"\u001b[39;49m\u001b[43m:\u001b[49m\u001b[43m \u001b[49m\u001b[38;5;124;43m\"\u001b[39;49m\u001b[38;5;124;43mfile_search\u001b[39;49m\u001b[38;5;124;43m\"\u001b[39;49m\u001b[43m}\u001b[49m\u001b[43m]\u001b[49m\u001b[43m}\u001b[49m\n\u001b[0;32m     27\u001b[0m \u001b[43m            \u001b[49m\u001b[43m]\u001b[49m\n\u001b[0;32m     28\u001b[0m \u001b[43m        \u001b[49m\u001b[43m}\u001b[49m\n\u001b[0;32m     29\u001b[0m \u001b[43m    \u001b[49m\u001b[43m]\u001b[49m\n\u001b[0;32m     30\u001b[0m \u001b[43m)\u001b[49m\n",
      "File \u001b[1;32m~\\AppData\\Local\\Programs\\Python\\Python311\\Lib\\site-packages\\openai\\resources\\beta\\threads\\threads.py:131\u001b[0m, in \u001b[0;36mThreads.create\u001b[1;34m(self, messages, metadata, tool_resources, extra_headers, extra_query, extra_body, timeout)\u001b[0m\n\u001b[0;32m    105\u001b[0m \u001b[38;5;250m\u001b[39m\u001b[38;5;124;03m\"\"\"\u001b[39;00m\n\u001b[0;32m    106\u001b[0m \u001b[38;5;124;03mCreate a thread.\u001b[39;00m\n\u001b[0;32m    107\u001b[0m \n\u001b[1;32m   (...)\u001b[0m\n\u001b[0;32m    128\u001b[0m \u001b[38;5;124;03m  timeout: Override the client-level default timeout for this request, in seconds\u001b[39;00m\n\u001b[0;32m    129\u001b[0m \u001b[38;5;124;03m\"\"\"\u001b[39;00m\n\u001b[0;32m    130\u001b[0m extra_headers \u001b[38;5;241m=\u001b[39m {\u001b[38;5;124m\"\u001b[39m\u001b[38;5;124mOpenAI-Beta\u001b[39m\u001b[38;5;124m\"\u001b[39m: \u001b[38;5;124m\"\u001b[39m\u001b[38;5;124massistants=v2\u001b[39m\u001b[38;5;124m\"\u001b[39m, \u001b[38;5;241m*\u001b[39m\u001b[38;5;241m*\u001b[39m(extra_headers \u001b[38;5;129;01mor\u001b[39;00m {})}\n\u001b[1;32m--> 131\u001b[0m \u001b[38;5;28;01mreturn\u001b[39;00m \u001b[38;5;28;43mself\u001b[39;49m\u001b[38;5;241;43m.\u001b[39;49m\u001b[43m_post\u001b[49m\u001b[43m(\u001b[49m\n\u001b[0;32m    132\u001b[0m \u001b[43m    \u001b[49m\u001b[38;5;124;43m\"\u001b[39;49m\u001b[38;5;124;43m/threads\u001b[39;49m\u001b[38;5;124;43m\"\u001b[39;49m\u001b[43m,\u001b[49m\n\u001b[0;32m    133\u001b[0m \u001b[43m    \u001b[49m\u001b[43mbody\u001b[49m\u001b[38;5;241;43m=\u001b[39;49m\u001b[43mmaybe_transform\u001b[49m\u001b[43m(\u001b[49m\n\u001b[0;32m    134\u001b[0m \u001b[43m        \u001b[49m\u001b[43m{\u001b[49m\n\u001b[0;32m    135\u001b[0m \u001b[43m            \u001b[49m\u001b[38;5;124;43m\"\u001b[39;49m\u001b[38;5;124;43mmessages\u001b[39;49m\u001b[38;5;124;43m\"\u001b[39;49m\u001b[43m:\u001b[49m\u001b[43m \u001b[49m\u001b[43mmessages\u001b[49m\u001b[43m,\u001b[49m\n\u001b[0;32m    136\u001b[0m \u001b[43m            \u001b[49m\u001b[38;5;124;43m\"\u001b[39;49m\u001b[38;5;124;43mmetadata\u001b[39;49m\u001b[38;5;124;43m\"\u001b[39;49m\u001b[43m:\u001b[49m\u001b[43m \u001b[49m\u001b[43mmetadata\u001b[49m\u001b[43m,\u001b[49m\n\u001b[0;32m    137\u001b[0m \u001b[43m            \u001b[49m\u001b[38;5;124;43m\"\u001b[39;49m\u001b[38;5;124;43mtool_resources\u001b[39;49m\u001b[38;5;124;43m\"\u001b[39;49m\u001b[43m:\u001b[49m\u001b[43m \u001b[49m\u001b[43mtool_resources\u001b[49m\u001b[43m,\u001b[49m\n\u001b[0;32m    138\u001b[0m \u001b[43m        \u001b[49m\u001b[43m}\u001b[49m\u001b[43m,\u001b[49m\n\u001b[0;32m    139\u001b[0m \u001b[43m        \u001b[49m\u001b[43mthread_create_params\u001b[49m\u001b[38;5;241;43m.\u001b[39;49m\u001b[43mThreadCreateParams\u001b[49m\u001b[43m,\u001b[49m\n\u001b[0;32m    140\u001b[0m \u001b[43m    \u001b[49m\u001b[43m)\u001b[49m\u001b[43m,\u001b[49m\n\u001b[0;32m    141\u001b[0m \u001b[43m    \u001b[49m\u001b[43moptions\u001b[49m\u001b[38;5;241;43m=\u001b[39;49m\u001b[43mmake_request_options\u001b[49m\u001b[43m(\u001b[49m\n\u001b[0;32m    142\u001b[0m \u001b[43m        \u001b[49m\u001b[43mextra_headers\u001b[49m\u001b[38;5;241;43m=\u001b[39;49m\u001b[43mextra_headers\u001b[49m\u001b[43m,\u001b[49m\u001b[43m \u001b[49m\u001b[43mextra_query\u001b[49m\u001b[38;5;241;43m=\u001b[39;49m\u001b[43mextra_query\u001b[49m\u001b[43m,\u001b[49m\u001b[43m \u001b[49m\u001b[43mextra_body\u001b[49m\u001b[38;5;241;43m=\u001b[39;49m\u001b[43mextra_body\u001b[49m\u001b[43m,\u001b[49m\u001b[43m \u001b[49m\u001b[43mtimeout\u001b[49m\u001b[38;5;241;43m=\u001b[39;49m\u001b[43mtimeout\u001b[49m\n\u001b[0;32m    143\u001b[0m \u001b[43m    \u001b[49m\u001b[43m)\u001b[49m\u001b[43m,\u001b[49m\n\u001b[0;32m    144\u001b[0m \u001b[43m    \u001b[49m\u001b[43mcast_to\u001b[49m\u001b[38;5;241;43m=\u001b[39;49m\u001b[43mThread\u001b[49m\u001b[43m,\u001b[49m\n\u001b[0;32m    145\u001b[0m \u001b[43m\u001b[49m\u001b[43m)\u001b[49m\n",
      "File \u001b[1;32m~\\AppData\\Local\\Programs\\Python\\Python311\\Lib\\site-packages\\openai\\_base_client.py:1278\u001b[0m, in \u001b[0;36mSyncAPIClient.post\u001b[1;34m(self, path, cast_to, body, options, files, stream, stream_cls)\u001b[0m\n\u001b[0;32m   1264\u001b[0m \u001b[38;5;28;01mdef\u001b[39;00m \u001b[38;5;21mpost\u001b[39m(\n\u001b[0;32m   1265\u001b[0m     \u001b[38;5;28mself\u001b[39m,\n\u001b[0;32m   1266\u001b[0m     path: \u001b[38;5;28mstr\u001b[39m,\n\u001b[1;32m   (...)\u001b[0m\n\u001b[0;32m   1273\u001b[0m     stream_cls: \u001b[38;5;28mtype\u001b[39m[_StreamT] \u001b[38;5;241m|\u001b[39m \u001b[38;5;28;01mNone\u001b[39;00m \u001b[38;5;241m=\u001b[39m \u001b[38;5;28;01mNone\u001b[39;00m,\n\u001b[0;32m   1274\u001b[0m ) \u001b[38;5;241m-\u001b[39m\u001b[38;5;241m>\u001b[39m ResponseT \u001b[38;5;241m|\u001b[39m _StreamT:\n\u001b[0;32m   1275\u001b[0m     opts \u001b[38;5;241m=\u001b[39m FinalRequestOptions\u001b[38;5;241m.\u001b[39mconstruct(\n\u001b[0;32m   1276\u001b[0m         method\u001b[38;5;241m=\u001b[39m\u001b[38;5;124m\"\u001b[39m\u001b[38;5;124mpost\u001b[39m\u001b[38;5;124m\"\u001b[39m, url\u001b[38;5;241m=\u001b[39mpath, json_data\u001b[38;5;241m=\u001b[39mbody, files\u001b[38;5;241m=\u001b[39mto_httpx_files(files), \u001b[38;5;241m*\u001b[39m\u001b[38;5;241m*\u001b[39moptions\n\u001b[0;32m   1277\u001b[0m     )\n\u001b[1;32m-> 1278\u001b[0m     \u001b[38;5;28;01mreturn\u001b[39;00m cast(ResponseT, \u001b[38;5;28;43mself\u001b[39;49m\u001b[38;5;241;43m.\u001b[39;49m\u001b[43mrequest\u001b[49m\u001b[43m(\u001b[49m\u001b[43mcast_to\u001b[49m\u001b[43m,\u001b[49m\u001b[43m \u001b[49m\u001b[43mopts\u001b[49m\u001b[43m,\u001b[49m\u001b[43m \u001b[49m\u001b[43mstream\u001b[49m\u001b[38;5;241;43m=\u001b[39;49m\u001b[43mstream\u001b[49m\u001b[43m,\u001b[49m\u001b[43m \u001b[49m\u001b[43mstream_cls\u001b[49m\u001b[38;5;241;43m=\u001b[39;49m\u001b[43mstream_cls\u001b[49m\u001b[43m)\u001b[49m)\n",
      "File \u001b[1;32m~\\AppData\\Local\\Programs\\Python\\Python311\\Lib\\site-packages\\openai\\_base_client.py:955\u001b[0m, in \u001b[0;36mSyncAPIClient.request\u001b[1;34m(self, cast_to, options, remaining_retries, stream, stream_cls)\u001b[0m\n\u001b[0;32m    952\u001b[0m \u001b[38;5;28;01melse\u001b[39;00m:\n\u001b[0;32m    953\u001b[0m     retries_taken \u001b[38;5;241m=\u001b[39m \u001b[38;5;241m0\u001b[39m\n\u001b[1;32m--> 955\u001b[0m \u001b[38;5;28;01mreturn\u001b[39;00m \u001b[38;5;28;43mself\u001b[39;49m\u001b[38;5;241;43m.\u001b[39;49m\u001b[43m_request\u001b[49m\u001b[43m(\u001b[49m\n\u001b[0;32m    956\u001b[0m \u001b[43m    \u001b[49m\u001b[43mcast_to\u001b[49m\u001b[38;5;241;43m=\u001b[39;49m\u001b[43mcast_to\u001b[49m\u001b[43m,\u001b[49m\n\u001b[0;32m    957\u001b[0m \u001b[43m    \u001b[49m\u001b[43moptions\u001b[49m\u001b[38;5;241;43m=\u001b[39;49m\u001b[43moptions\u001b[49m\u001b[43m,\u001b[49m\n\u001b[0;32m    958\u001b[0m \u001b[43m    \u001b[49m\u001b[43mstream\u001b[49m\u001b[38;5;241;43m=\u001b[39;49m\u001b[43mstream\u001b[49m\u001b[43m,\u001b[49m\n\u001b[0;32m    959\u001b[0m \u001b[43m    \u001b[49m\u001b[43mstream_cls\u001b[49m\u001b[38;5;241;43m=\u001b[39;49m\u001b[43mstream_cls\u001b[49m\u001b[43m,\u001b[49m\n\u001b[0;32m    960\u001b[0m \u001b[43m    \u001b[49m\u001b[43mretries_taken\u001b[49m\u001b[38;5;241;43m=\u001b[39;49m\u001b[43mretries_taken\u001b[49m\u001b[43m,\u001b[49m\n\u001b[0;32m    961\u001b[0m \u001b[43m\u001b[49m\u001b[43m)\u001b[49m\n",
      "File \u001b[1;32m~\\AppData\\Local\\Programs\\Python\\Python311\\Lib\\site-packages\\openai\\_base_client.py:1059\u001b[0m, in \u001b[0;36mSyncAPIClient._request\u001b[1;34m(self, cast_to, options, retries_taken, stream, stream_cls)\u001b[0m\n\u001b[0;32m   1056\u001b[0m         err\u001b[38;5;241m.\u001b[39mresponse\u001b[38;5;241m.\u001b[39mread()\n\u001b[0;32m   1058\u001b[0m     log\u001b[38;5;241m.\u001b[39mdebug(\u001b[38;5;124m\"\u001b[39m\u001b[38;5;124mRe-raising status error\u001b[39m\u001b[38;5;124m\"\u001b[39m)\n\u001b[1;32m-> 1059\u001b[0m     \u001b[38;5;28;01mraise\u001b[39;00m \u001b[38;5;28mself\u001b[39m\u001b[38;5;241m.\u001b[39m_make_status_error_from_response(err\u001b[38;5;241m.\u001b[39mresponse) \u001b[38;5;28;01mfrom\u001b[39;00m \u001b[38;5;28;01mNone\u001b[39;00m\n\u001b[0;32m   1061\u001b[0m \u001b[38;5;28;01mreturn\u001b[39;00m \u001b[38;5;28mself\u001b[39m\u001b[38;5;241m.\u001b[39m_process_response(\n\u001b[0;32m   1062\u001b[0m     cast_to\u001b[38;5;241m=\u001b[39mcast_to,\n\u001b[0;32m   1063\u001b[0m     options\u001b[38;5;241m=\u001b[39moptions,\n\u001b[1;32m   (...)\u001b[0m\n\u001b[0;32m   1067\u001b[0m     retries_taken\u001b[38;5;241m=\u001b[39mretries_taken,\n\u001b[0;32m   1068\u001b[0m )\n",
      "\u001b[1;31mBadRequestError\u001b[0m: Error code: 400 - {'error': {'message': 'Files with extensions [.csv] are not supported for retrieval. See https://platform.openai.com/docs/assistants/tools/file-search/supported-files', 'type': 'invalid_request_error', 'param': None, 'code': 'unsupported_file'}}"
     ]
    }
   ],
   "source": [
    "# Define the assistant\n",
    "assistant = client.beta.assistants.create(\n",
    "    model=\"gpt-4o-mini-2024-07-18\",\n",
    "    instructions=\"\"\"Your task is to analyze variables from the input file and map them against the HEAL CDE reference. Provide results in a flat JSON format:\n",
    "    [\n",
    "        {\n",
    "            \"module_name\": \"<module name>\",\n",
    "            \"name\": \"<entry name>\",\n",
    "            \"standards_mapping_type\": \"<CDE mapping type>\",\n",
    "            \"heal_cde_name\": \"<CDE name>\",\n",
    "            \"variable_cde_name\": \"<Variable name>\"\n",
    "        }\n",
    "    ]\n",
    "    \"\"\",\n",
    "    name=\"CDE ID Python\",\n",
    "    tools=[{\"type\": \"file_search\"}]\n",
    ")\n",
    "\n",
    "# Create the thread\n",
    "thread = client.beta.threads.create(\n",
    "    messages=[\n",
    "        {\n",
    "            \"role\": \"user\",\n",
    "            \"content\": \"\"\"Please analyze the variables from the input file and match them to the HEAL CDE reference.\"\"\",\n",
    "            \"attachments\": [\n",
    "                {\"file_id\": input_file_id, \"tools\": [{\"type\": \"file_search\"}]}\n",
    "            ]\n",
    "        }\n",
    "    ]\n",
    ")"
   ]
  },
  {
   "cell_type": "code",
   "execution_count": 21,
   "id": "ac7641a4-3394-4dd2-b83e-8cbd66b8d9dc",
   "metadata": {},
   "outputs": [],
   "source": [
    "# Event handler for streaming the assistant's response\n",
    "from typing_extensions import override\n",
    "from openai import AssistantEventHandler\n",
    "\n",
    "class EventHandler(AssistantEventHandler):\n",
    "    @override\n",
    "    def on_text_created(self, text) -> None:\n",
    "        print(f\"\\nassistant > {text}\")\n",
    "\n",
    "    @override\n",
    "    def on_tool_call_created(self, tool_call):\n",
    "        print(f\"\\nassistant > {tool_call.type}\\n\")\n",
    "\n",
    "    @override\n",
    "    def on_message_done(self, message) -> None:\n",
    "        print(f\"Assistant finished processing: {message.content}\")"
   ]
  },
  {
   "cell_type": "code",
   "execution_count": 24,
   "id": "4063bf7a-21e4-4608-b9bc-415bd9af471d",
   "metadata": {},
   "outputs": [
    {
     "ename": "NameError",
     "evalue": "name 'thread' is not defined",
     "output_type": "error",
     "traceback": [
      "\u001b[1;31m---------------------------------------------------------------------------\u001b[0m",
      "\u001b[1;31mNameError\u001b[0m                                 Traceback (most recent call last)",
      "Cell \u001b[1;32mIn[24], line 3\u001b[0m\n\u001b[0;32m      1\u001b[0m \u001b[38;5;66;03m# Stream the response\u001b[39;00m\n\u001b[0;32m      2\u001b[0m \u001b[38;5;28;01mwith\u001b[39;00m client\u001b[38;5;241m.\u001b[39mbeta\u001b[38;5;241m.\u001b[39mthreads\u001b[38;5;241m.\u001b[39mruns\u001b[38;5;241m.\u001b[39mstream(\n\u001b[1;32m----> 3\u001b[0m     thread_id\u001b[38;5;241m=\u001b[39m\u001b[43mthread\u001b[49m\u001b[38;5;241m.\u001b[39mid,\n\u001b[0;32m      4\u001b[0m     assistant_id\u001b[38;5;241m=\u001b[39massistant\u001b[38;5;241m.\u001b[39mid,\n\u001b[0;32m      5\u001b[0m     instructions\u001b[38;5;241m=\u001b[39m\u001b[38;5;124m\"\u001b[39m\u001b[38;5;124mProcess the input file and match variables.\u001b[39m\u001b[38;5;124m\"\u001b[39m,\n\u001b[0;32m      6\u001b[0m     event_handler\u001b[38;5;241m=\u001b[39mEventHandler(),\n\u001b[0;32m      7\u001b[0m ) \u001b[38;5;28;01mas\u001b[39;00m stream:\n\u001b[0;32m      8\u001b[0m     stream\u001b[38;5;241m.\u001b[39muntil_done()\n",
      "\u001b[1;31mNameError\u001b[0m: name 'thread' is not defined"
     ]
    }
   ],
   "source": [
    "# Stream the response\n",
    "with client.beta.threads.runs.stream(\n",
    "    thread_id=thread.id,\n",
    "    assistant_id=assistant.id,\n",
    "    instructions=\"Process the input file and match variables.\",\n",
    "    event_handler=EventHandler(),\n",
    ") as stream:\n",
    "    stream.until_done()"
   ]
  },
  {
   "cell_type": "code",
   "execution_count": 20,
   "id": "2927bf84-3af2-474a-8bf0-7923396ceb80",
   "metadata": {},
   "outputs": [
    {
     "name": "stdout",
     "output_type": "stream",
     "text": [
      "Processed data saved to C:\\Users\\lmaefos\\Code Stuffs\\CDE_detective\\Outputs\\output_file.json\n"
     ]
    }
   ],
   "source": [
    "# Output results to a JSON file\n",
    "output_file_path = r\"C:\\Users\\lmaefos\\Code Stuffs\\CDE_detective\\Outputs\\output_file.json\"\n",
    "with open(output_file_path, \"w\") as f:\n",
    "    json.dump(results, f, indent=4)\n",
    "\n",
    "print(f\"Processed data saved to {output_file_path}\")"
   ]
  },
  {
   "cell_type": "code",
   "execution_count": 7,
   "id": "f183e3b5",
   "metadata": {
    "tags": []
   },
   "outputs": [],
   "source": [
    "# come back to this from HERE\n",
    "#Define the assistant\n",
    "assistant = openai.Client().beta.assistants.create(\n",
    "    model=\"gpt-4o-mini-2024-07-18\",\n",
    "    instructions=\"\"\"Process the given modules and their variables, and produce JSON output as per the specified format. Ensure that all modules and their entries are included in the output. Analyze the contents of each name nested under its respective module in the attached JSON file. The goal is to determine whether each name, which represents a variable, matches a HEAL CDE variable from a pre-defined list of HEAL CDE variables stored in the HEAL CDE JSON file.\n",
    "\n",
    "                Response Format:\n",
    "                For each entry in the module, provide the following in a flat JSON format:\n",
    "                [\n",
    "                    {\n",
    "                      \"module_name\": \"<module name>\",\n",
    "                      \"name\": \"<entry name>\",\n",
    "                      \"standards_mapping_type\": \"<CDE mapping type>\",\n",
    "                      \"heal_cde_name\": \"<CDE name>\",\n",
    "                      \"variable_cde_name\": \"<Variable name>\"\n",
    "                    },\n",
    "                    ...\n",
    "                ]\n",
    "\n",
    "                Guidelines:\n",
    "                1. Match Variable Names to HEAL CDE Variables: compare each variable name in the provided JSON file against the HEAL CDE variable list from the HEAL CDE JSON file. Determine if the variable matches a HEAL CDE variable.\n",
    "                2. Determine Standards Mapping Type:\n",
    "                - HEAL CDE Match: When the entry matches a CDE directly.\n",
    "                - Potential HEAL CDE Match: When the entry partially matches a CDE or aligns with its context.\n",
    "                - No CDE match: When the entry does not correspond to any CDE.\n",
    "                3. Specify the HEAL CDE name: Provide the CDE name derived from the All_HEALPAINCDEsDD_JSON.json file or indicate 'No CDE match'.\n",
    "                4. Specify Variable CDE name: Provide the variable name derived from the All_HEALPAINCDEsDD_JSON.json file or indicate 'No variable match'.\n",
    "\n",
    "                Example Output:\n",
    "                {\n",
    "                    \"module name\": \"baseline_assessment\",\n",
    "                    \"name\": \"birth\",\n",
    "                    \"standards_mapping_type\": \"HEAL CDE Match\",\n",
    "                    \"heal_cde_name\": \"Birth date\",\n",
    "                    \"variable_cde_name\": \"BRTHDTC\"\n",
    "                },\n",
    "                {\n",
    "                    \"module name\": \"opioid_risk_tool\",\n",
    "                    \"name\": \"depression\",\n",
    "                    \"standards_mapping_type\": \"Potential HEAL CDE Match\",\n",
    "                    \"heal_cde_name\": \"Depression\",\n",
    "                    \"variable_cde_name\": \"depression\"\n",
    "                },\n",
    "                {\n",
    "                    \"module name\": \"opioid_risk_tool\",\n",
    "                    \"name\": \"illegal_drugs\",\n",
    "                    \"standards_mapping_type\": \"No CDE match\",\n",
    "                    \"heal_cde_name\": \"No CDE match\",\n",
    "                    \"variable_cde_name\": \"No variable match\"\n",
    "                }\n",
    "                \"\"\",\n",
    "    name=\"CDE ID Python\",\n",
    "    tools=[{\"type\": \"file_search\"}]             \n",
    ")"
   ]
  },
  {
   "cell_type": "code",
   "execution_count": null,
   "id": "c5a0dd1a-36b7-48de-8e49-0cbbc60ce388",
   "metadata": {},
   "outputs": [],
   "source": []
  },
  {
   "cell_type": "code",
   "execution_count": 8,
   "id": "65bd5f72-0e63-4692-a815-b798bbde7f47",
   "metadata": {
    "tags": []
   },
   "outputs": [],
   "source": [
    "#Store reference files. These will be permanently accessible to the assistant.\n",
    "vector_store = client.beta.vector_stores.create(name=\"CDE Files\")\n",
    "heal_cde_file = [r\"C:\\Users\\lmaefos\\Code Stuffs\\CDE_detective\\CDE_ID_detective_revamp\\KnowledgeBase\\All_HEALPAINCDEsDD_JSON.json\"]\n",
    "with open(heal_cde_file, \"r\") as f:\n",
    "    heal_cde_data = json.load(f)\n",
    "\n",
    "file_streams = [open(path, \"rb\") for path in heal_cde_file]\n",
    "file_batch = client.beta.vector_stores.file_batches.upload_and_poll(\n",
    "  vector_store_id=vector_store.id, files=file_streams\n",
    ")"
   ]
  },
  {
   "cell_type": "code",
   "execution_count": 9,
   "id": "44c43365-b8a6-47b5-97cb-1da2ccde67e3",
   "metadata": {
    "tags": []
   },
   "outputs": [],
   "source": [
    "#Update the assistant to intake reference files.\n",
    "assistant = client.beta.assistants.update(\n",
    "  assistant_id=assistant.id,\n",
    "  tool_resources={\"file_search\": {\"vector_store_ids\": [vector_store.id]}},\n",
    ")"
   ]
  },
  {
   "cell_type": "code",
   "execution_count": 10,
   "id": "a25ca1c0-ca2c-4c45-ac48-8405e5e66505",
   "metadata": {
    "tags": []
   },
   "outputs": [],
   "source": [
    "#Files that are going to be used in the message. See \"attachments\" in the block below.\n",
    "sample_output_file = client.files.create(\n",
    "    file=open(r\"C:\\Users\\lmaefos\\Code Stuffs\\CDE_detective\\SAMPLE_DataDictionary_ForTesting.json\", \"rb\"),\n",
    "    purpose='assistants'\n",
    ")"
   ]
  },
  {
   "cell_type": "code",
   "execution_count": 11,
   "id": "8791a113-7267-45d1-a5cc-6d1da62ccbf7",
   "metadata": {
    "tags": []
   },
   "outputs": [],
   "source": [
    "#Create message thread\n",
    "thread = client.beta.threads.create(\n",
    "  messages=[\n",
    "    {\n",
    "      \"role\": \"user\",\n",
    "      \"content\": \"\"\"Adjust the sample output provided according to the instructions to produce a file that looks like the desired outcome file.\n",
    "      The sample output is a json structure that contains modules with information that you need to parse through.\n",
    "      I want you to determine whether each entry in the module matches with a CDE. The CDE list is found in the All_HEALPAINCDEsDD_JSON.\n",
    "      You should output text that is in the same format as the desired outcome, which is another json file. Here are the instructions:\n",
    "      Objective: Process the raw responses from the output of the HEAL CDE Detective to produce a structured JSON format that aligns with the HEAL Core Common Data Elements (CDE) categorization.\n",
    "\n",
    "        Response Format:\n",
    "        For each entry in the module, provide the following in a flat JSON format:\n",
    "        [\n",
    "            {\n",
    "              \"module_name\": \"<module name>\",\n",
    "              \"name\": \"<entry name>\",\n",
    "              \"standards_mapping_type\": \"<CDE mapping type>\",\n",
    "              \"heal_cde_name\": \"<CDE name>\",\n",
    "              \"variable_cde_name\": \"<variable name>\"\n",
    "            },\n",
    "            ...\n",
    "        ]\n",
    "\n",
    "        Guidelines:\n",
    "        1. Parse Raw Responses: Extract and organize information from the raw response provided by the first assistant.\n",
    "        2. Determine Standards Mapping Type:\n",
    "        - HEAL CDE Match: When the entry matches a CDE directly.\n",
    "        - Potential HEAL CDE Match: When the entry partially matches a CDE or aligns with its context.\n",
    "        - No CDE match: When the entry does not correspond to any CDE.\n",
    "        3. Specify the HEAL CDE name: Provide the CDE name derived from the All_HEALPAINCDEsDD_JSON.json file or indicate 'No CDE match'.\n",
    "        4. Specify Variable CDE name: Provide the variable name derived from the All_HEALPAINCDEsDD_JSON.json file or indicate 'No variable match'.\n",
    "\n",
    "        Example Output:\n",
    "        [\n",
    "            {\n",
    "              \"module_name\": \"baseline_assessment\",\n",
    "              \"name\": \"birth\",\n",
    "              \"standards_mapping_type\": \"HEAL CDE Match\",\n",
    "              \"heal_cde_name\": \"Birth date\",\n",
    "              \"variable_cde_name\": \"BRTHDTC\"\n",
    "            },\n",
    "            ...\n",
    "      \"\"\",\n",
    "      # Attach the new file to the message.\n",
    "      \"attachments\": [\n",
    "        { \"file_id\": sample_output_file.id, \"tools\": [{\"type\": \"file_search\"}] }\n",
    "      ],\n",
    "    }\n",
    "  ]\n",
    ")"
   ]
  },
  {
   "cell_type": "code",
   "execution_count": 12,
   "id": "e110819b-2384-4da8-a47f-754d5ae67d35",
   "metadata": {
    "tags": []
   },
   "outputs": [
    {
     "name": "stdout",
     "output_type": "stream",
     "text": [
      "\n",
      "assistant > file_search\n",
      "\n",
      "\n",
      "assistant > To process the provided data, I will create a structured JSON format based on the criteria you've mentioned for matching entries against the HEAL Core Common Data Elements (CDEs). Let's analyze the sample data to create the desired output JSON.\n",
      "\n",
      "### Desired JSON Output\n",
      "Here’s a sample structure for the output based on the provided instructions and the available CDE data.\n",
      "\n",
      "```json\n",
      "[\n",
      "    {\n",
      "        \"module_name\": \"opioid_risk_tool\",\n",
      "        \"name\": \"depression\",\n",
      "        \"standards_mapping_type\": \"HEAL CDE Match\", \n",
      "        \"heal_cde_name\": \"Depression\",\n",
      "        \"variable_cde_name\": \"depression\"\n",
      "    },\n",
      "    {\n",
      "        \"module_name\": \"opioid_risk_tool\",\n",
      "        \"name\": \"illegal drugs\",\n",
      "        \"standards_mapping_type\": \"No CDE match\", \n",
      "        \"heal_cde_name\": \"No CDE match\",\n",
      "        \"variable_cde_name\": \"No variable match\"\n",
      "    }\n",
      "    // and so on for the other entries...\n",
      "]\n",
      "```\n",
      "\n",
      "### Steps to Process the Output\n",
      "1. **Extract Data:** Parse the provided sample data to retrieve information on module names, entry names, and their corresponding CDEs.\n",
      "2. **Match Entries with CDEs:** Check each entry against the CDE list from the `All_HEALPAINCDEsDD_JSON` for matches.\n",
      "3. **Classify Each Entry:** Assign the appropriate `standards_mapping_type` based on the matching results (i.e., 'HEAL CDE Match', 'Potential HEAL CDE Match', or 'No CDE match').\n",
      "4. **Output Structured JSON:** Create the JSON output per the desired format.\n",
      "\n",
      "### Example Processing\n",
      "Now let's get to processing the data using the extracted information from both the sample outputs and CDEs.\n",
      "\n",
      "#### Here’s the json structured output based on the information I'll summarize:\n",
      "```json\n",
      "[\n",
      "    {\n",
      "        \"module_name\": \"opioid_risk_tool\",\n",
      "        \"name\": \"depression\",\n",
      "        \"standards_mapping_type\": \"HEAL CDE Match\",\n",
      "        \"heal_cde_name\": \"Depression\",\n",
      "        \"variable_cde_name\": \"depression\"\n",
      "    },\n",
      "    {\n",
      "        \"module_name\": \"opioid_risk_tool\",\n",
      "        \"name\": \"illegal drugs\",\n",
      "        \"standards_mapping_type\": \"No CDE match\",\n",
      "        \"heal_cde_name\": \"No CDE match\",\n",
      "        \"variable_cde_name\": \"No variable match\"\n",
      "    },\n",
      "    {\n",
      "        \"module_name\": \"baseline_assessment\",\n",
      "        \"name\": \"birth\",\n",
      "        \"standards_mapping_type\": \"HEAL CDE Match\",\n",
      "        \"heal_cde_name\": \"Birth date\",\n",
      "        \"variable_cde_name\": \"BRTHDTC\"\n",
      "    },\n",
      "    // Continue with other entries...\n",
      "]\n",
      "```\n",
      "\n",
      "### Notes\n",
      "- Each entry should be evaluated based on its conditions as laid out.\n",
      "- If there are any specific entries to highlight or further narrow down based on contextual keywords found in the data, please outline them for a focused output.\n",
      "- This output format aims to be similar to your example, maintaining structure and information clarity. \n",
      "\n",
      "I can help continue this structured JSON or modify it further based on more specific input if needed. Please provide further details or specify if you would like adjustments.\n",
      "\n"
     ]
    }
   ],
   "source": [
    "#Execute message thread. DO NOT CHANGE (for now)\n",
    "from typing_extensions import override\n",
    "from openai import AssistantEventHandler, OpenAI\n",
    " \n",
    "client = OpenAI()\n",
    " \n",
    "class EventHandler(AssistantEventHandler):\n",
    "    @override\n",
    "    def on_text_created(self, text) -> None:\n",
    "        print(f\"\\nassistant > \", end=\"\", flush=True)\n",
    "\n",
    "    @override\n",
    "    def on_tool_call_created(self, tool_call):\n",
    "        print(f\"\\nassistant > {tool_call.type}\\n\", flush=True)\n",
    "\n",
    "    @override\n",
    "    def on_message_done(self, message) -> None:\n",
    "        # print a citation to the file searched\n",
    "        message_content = message.content[0].text\n",
    "        annotations = message_content.annotations\n",
    "        citations = []\n",
    "        for index, annotation in enumerate(annotations):\n",
    "            message_content.value = message_content.value.replace(\n",
    "                annotation.text, f\"[{index}]\"\n",
    "            )\n",
    "            if file_citation := getattr(annotation, \"file_citation\", None):\n",
    "                cited_file = client.files.retrieve(file_citation.file_id)\n",
    "                citations.append(f\"[{index}] {cited_file.filename}\")\n",
    "\n",
    "        print(message_content.value)\n",
    "        print(\"\\n\".join(citations))\n",
    "\n",
    "\n",
    "# Then, we use the stream SDK helper\n",
    "# with the EventHandler class to create the Run\n",
    "# and stream the response.\n",
    "\n",
    "with client.beta.threads.runs.stream(\n",
    "    thread_id=thread.id,\n",
    "    assistant_id=assistant.id,\n",
    "    instructions=\"Please parse through the whole sample output file.\",\n",
    "    event_handler=EventHandler(),\n",
    ") as stream:\n",
    "    stream.until_done()"
   ]
  },
  {
   "cell_type": "code",
   "execution_count": null,
   "id": "a6cecd39-3f69-4852-b2a7-3d2a5666761d",
   "metadata": {},
   "outputs": [],
   "source": []
  }
 ],
 "metadata": {
  "kernelspec": {
   "display_name": "Python 3 (ipykernel)",
   "language": "python",
   "name": "python3"
  },
  "language_info": {
   "codemirror_mode": {
    "name": "ipython",
    "version": 3
   },
   "file_extension": ".py",
   "mimetype": "text/x-python",
   "name": "python",
   "nbconvert_exporter": "python",
   "pygments_lexer": "ipython3",
   "version": "3.11.4"
  }
 },
 "nbformat": 4,
 "nbformat_minor": 5
}
